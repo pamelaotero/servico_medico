{
 "cells": [
  {
   "cell_type": "code",
   "execution_count": 1,
   "metadata": {},
   "outputs": [],
   "source": [
    "import pandas as pd"
   ]
  },
  {
   "cell_type": "code",
   "execution_count": 2,
   "metadata": {},
   "outputs": [],
   "source": [
    "from glob import glob"
   ]
  },
  {
   "cell_type": "code",
   "execution_count": 3,
   "metadata": {},
   "outputs": [
    {
     "name": "stdout",
     "output_type": "stream",
     "text": [
      "Bem Vindo(a) :D \n"
     ]
    }
   ],
   "source": [
    "print(\"Bem Vindo(a) :D \")"
   ]
  },
  {
   "cell_type": "code",
   "execution_count": 4,
   "metadata": {},
   "outputs": [
    {
     "name": "stdout",
     "output_type": "stream",
     "text": [
      "Lendo bases...\n"
     ]
    }
   ],
   "source": [
    "print(\"Lendo bases...\")"
   ]
  },
  {
   "cell_type": "code",
   "execution_count": 5,
   "metadata": {},
   "outputs": [],
   "source": [
    "df_base_atestados = pd.read_excel(glob(\"bases/*\")[0], index_col = None)"
   ]
  },
  {
   "cell_type": "code",
   "execution_count": 6,
   "metadata": {},
   "outputs": [],
   "source": [
    "df_base_atestados.columns = ['data_sap','matricula','nome','idade','sexo','funcao','loja','data_inicial','data_final','vai_inss','dias_perdidos','cib_10','grupo_doenca','lcdo_soc','','','']"
   ]
  },
  {
   "cell_type": "code",
   "execution_count": 7,
   "metadata": {},
   "outputs": [],
   "source": [
    "df_base_atestados_filtrado = df_base_atestados[['data_sap','matricula','nome','idade','sexo','funcao','loja','data_inicial','data_final','vai_inss','dias_perdidos','cib_10','grupo_doenca','lcdo_soc']].copy()"
   ]
  },
  {
   "cell_type": "code",
   "execution_count": 8,
   "metadata": {},
   "outputs": [],
   "source": [
    "df_base_atestados_filtrado = df_base_atestados_filtrado[~df_base_atestados_filtrado['matricula'].isnull()].copy()"
   ]
  },
  {
   "cell_type": "code",
   "execution_count": 9,
   "metadata": {},
   "outputs": [],
   "source": [
    "df_base_atestados_filtrado = df_base_atestados_filtrado[df_base_atestados_filtrado['nome'] != 'NOME'].copy()"
   ]
  },
  {
   "cell_type": "markdown",
   "metadata": {},
   "source": [
    "#### filtro das colunas importantes"
   ]
  },
  {
   "cell_type": "code",
   "execution_count": 10,
   "metadata": {},
   "outputs": [],
   "source": [
    "df_atestados_meses = df_base_atestados_filtrado[['data_inicial','dias_perdidos','loja','sexo','idade','funcao','grupo_doenca']].copy()"
   ]
  },
  {
   "cell_type": "code",
   "execution_count": 11,
   "metadata": {},
   "outputs": [],
   "source": [
    "### Pegando somente o dado que necessita que é o mês\n",
    "df_atestados_meses['data_inicial'] = df_atestados_meses['data_inicial'].astype(str)"
   ]
  },
  {
   "cell_type": "code",
   "execution_count": 12,
   "metadata": {},
   "outputs": [],
   "source": [
    "df_atestados_meses['data_inicial'] = df_atestados_meses['data_inicial'].str.replace(\".\",\"-\")\n",
    "df_atestados_meses['data_inicial'] = df_atestados_meses['data_inicial'].str.replace(\":\",\"-\")\n",
    "df_atestados_meses['data_inicial'] = df_atestados_meses['data_inicial'].str.replace(\" \",\"-\")"
   ]
  },
  {
   "cell_type": "code",
   "execution_count": 13,
   "metadata": {},
   "outputs": [],
   "source": [
    "df_atestados_meses['mes'] = df_atestados_meses['data_inicial'].apply(lambda item: str(item).split('-')[1])"
   ]
  },
  {
   "cell_type": "code",
   "execution_count": 14,
   "metadata": {},
   "outputs": [],
   "source": [
    "df_atestados_meses.drop(columns = {'data_inicial'}, inplace = True)"
   ]
  },
  {
   "cell_type": "code",
   "execution_count": 15,
   "metadata": {},
   "outputs": [],
   "source": [
    "df_atestados_meses['mes'] = df_atestados_meses['mes'].astype(int)"
   ]
  },
  {
   "cell_type": "code",
   "execution_count": 16,
   "metadata": {},
   "outputs": [],
   "source": [
    "# df_atestados_meses"
   ]
  },
  {
   "cell_type": "code",
   "execution_count": 17,
   "metadata": {},
   "outputs": [],
   "source": [
    "df_atestados_meses['mes_copiado'] = df_atestados_meses['mes']"
   ]
  },
  {
   "cell_type": "markdown",
   "metadata": {},
   "source": [
    "### 2ºFiltrando para QUANTIDADE DE LICENÇAS MÉDICAS POR UNIDADE"
   ]
  },
  {
   "cell_type": "code",
   "execution_count": 18,
   "metadata": {},
   "outputs": [],
   "source": [
    "df_atestados_unidade = df_atestados_meses[['mes','loja']].copy() "
   ]
  },
  {
   "cell_type": "code",
   "execution_count": 19,
   "metadata": {},
   "outputs": [
    {
     "data": {
      "text/html": [
       "<div>\n",
       "<style scoped>\n",
       "    .dataframe tbody tr th:only-of-type {\n",
       "        vertical-align: middle;\n",
       "    }\n",
       "\n",
       "    .dataframe tbody tr th {\n",
       "        vertical-align: top;\n",
       "    }\n",
       "\n",
       "    .dataframe thead th {\n",
       "        text-align: right;\n",
       "    }\n",
       "</style>\n",
       "<table border=\"1\" class=\"dataframe\">\n",
       "  <thead>\n",
       "    <tr style=\"text-align: right;\">\n",
       "      <th></th>\n",
       "      <th>mes</th>\n",
       "      <th>loja</th>\n",
       "    </tr>\n",
       "  </thead>\n",
       "  <tbody>\n",
       "    <tr>\n",
       "      <th>0</th>\n",
       "      <td>5</td>\n",
       "      <td>VENDAS - BARROSO</td>\n",
       "    </tr>\n",
       "  </tbody>\n",
       "</table>\n",
       "</div>"
      ],
      "text/plain": [
       "   mes              loja\n",
       "0    5  VENDAS - BARROSO"
      ]
     },
     "execution_count": 19,
     "metadata": {},
     "output_type": "execute_result"
    }
   ],
   "source": [
    "df_atestados_unidade.head(1)"
   ]
  },
  {
   "cell_type": "markdown",
   "metadata": {},
   "source": [
    "## QUANTIDADE DE DIAS PERDIDOS E LICENÇAS POR MÊS"
   ]
  },
  {
   "cell_type": "code",
   "execution_count": 20,
   "metadata": {},
   "outputs": [],
   "source": [
    "df_atestados_meses = df_atestados_meses.groupby('mes', as_index = False).agg({'mes_copiado': 'count','dias_perdidos':'sum'})"
   ]
  },
  {
   "cell_type": "code",
   "execution_count": 21,
   "metadata": {},
   "outputs": [
    {
     "data": {
      "text/html": [
       "<div>\n",
       "<style scoped>\n",
       "    .dataframe tbody tr th:only-of-type {\n",
       "        vertical-align: middle;\n",
       "    }\n",
       "\n",
       "    .dataframe tbody tr th {\n",
       "        vertical-align: top;\n",
       "    }\n",
       "\n",
       "    .dataframe thead th {\n",
       "        text-align: right;\n",
       "    }\n",
       "</style>\n",
       "<table border=\"1\" class=\"dataframe\">\n",
       "  <thead>\n",
       "    <tr style=\"text-align: right;\">\n",
       "      <th></th>\n",
       "      <th>mes</th>\n",
       "      <th>mes_copiado</th>\n",
       "      <th>dias_perdidos</th>\n",
       "    </tr>\n",
       "  </thead>\n",
       "  <tbody>\n",
       "    <tr>\n",
       "      <th>0</th>\n",
       "      <td>5</td>\n",
       "      <td>152</td>\n",
       "      <td>360</td>\n",
       "    </tr>\n",
       "    <tr>\n",
       "      <th>1</th>\n",
       "      <td>6</td>\n",
       "      <td>162</td>\n",
       "      <td>341</td>\n",
       "    </tr>\n",
       "    <tr>\n",
       "      <th>2</th>\n",
       "      <td>7</td>\n",
       "      <td>200</td>\n",
       "      <td>485</td>\n",
       "    </tr>\n",
       "    <tr>\n",
       "      <th>3</th>\n",
       "      <td>8</td>\n",
       "      <td>199</td>\n",
       "      <td>426</td>\n",
       "    </tr>\n",
       "    <tr>\n",
       "      <th>4</th>\n",
       "      <td>9</td>\n",
       "      <td>153</td>\n",
       "      <td>332</td>\n",
       "    </tr>\n",
       "  </tbody>\n",
       "</table>\n",
       "</div>"
      ],
      "text/plain": [
       "   mes  mes_copiado  dias_perdidos\n",
       "0    5          152            360\n",
       "1    6          162            341\n",
       "2    7          200            485\n",
       "3    8          199            426\n",
       "4    9          153            332"
      ]
     },
     "execution_count": 21,
     "metadata": {},
     "output_type": "execute_result"
    }
   ],
   "source": [
    "df_atestados_meses.head()"
   ]
  },
  {
   "cell_type": "code",
   "execution_count": 22,
   "metadata": {},
   "outputs": [],
   "source": [
    "df_atestados_meses.rename(columns = {'mes_copiado':'QTE DE LICENÇAS MÉDICAS','dias_perdidos':'QTE DIAS PERDIDOS'}, inplace = True)"
   ]
  },
  {
   "cell_type": "code",
   "execution_count": 23,
   "metadata": {},
   "outputs": [],
   "source": [
    "nome_mes = {1: 'JAN', 2: 'FEV', 3:'MARC', 4:'ABR', 5:'MAIO', 6:'JUN', 7:'JUL', 8:'AGO', 9:'SET', 10:'OUT', 11:'NOV' , 12: 'DEZ'}"
   ]
  },
  {
   "cell_type": "code",
   "execution_count": 24,
   "metadata": {},
   "outputs": [],
   "source": [
    "df_atestados_meses['nome_mes'] = df_atestados_meses['mes'].map(nome_mes)"
   ]
  },
  {
   "cell_type": "code",
   "execution_count": 25,
   "metadata": {},
   "outputs": [],
   "source": [
    "df_atestados_meses.sort_values(by = ['mes'], ascending = True, inplace = True)"
   ]
  },
  {
   "cell_type": "code",
   "execution_count": 26,
   "metadata": {},
   "outputs": [],
   "source": [
    "df_atestados_meses = df_atestados_meses.T "
   ]
  },
  {
   "cell_type": "code",
   "execution_count": 27,
   "metadata": {},
   "outputs": [],
   "source": [
    "#Reorganizando os meses com os respectivos nomes\n",
    "df_atestados_meses.columns = df_atestados_meses.loc['nome_mes'] \n",
    "df_atestados_meses.columns.name = None"
   ]
  },
  {
   "cell_type": "code",
   "execution_count": 28,
   "metadata": {},
   "outputs": [],
   "source": [
    "df_atestados_meses.drop(['mes', 'nome_mes'], inplace = True)"
   ]
  },
  {
   "cell_type": "code",
   "execution_count": 29,
   "metadata": {},
   "outputs": [],
   "source": [
    "lista_colunas = df_atestados_meses.columns\n",
    "\n",
    "lista_meses = [\"JAN\", \"FEV\", \"MAR\", \"ABR\", \"MAIO\", \"JUN\",\"JUL\",\"AGO\",\"SET\",\"OUT\",\"NOV\",\"DEZ\"]\n",
    "\n",
    "lista_meses = [x for x in lista_meses if x not in lista_colunas] "
   ]
  },
  {
   "cell_type": "code",
   "execution_count": 30,
   "metadata": {},
   "outputs": [
    {
     "data": {
      "text/plain": [
       "['JAN', 'FEV', 'MAR', 'ABR', 'NOV', 'DEZ']"
      ]
     },
     "execution_count": 30,
     "metadata": {},
     "output_type": "execute_result"
    }
   ],
   "source": [
    "lista_meses"
   ]
  },
  {
   "cell_type": "code",
   "execution_count": 31,
   "metadata": {},
   "outputs": [],
   "source": [
    "for mes in lista_meses:\n",
    "    df_atestados_meses[mes] = 0"
   ]
  },
  {
   "cell_type": "code",
   "execution_count": 32,
   "metadata": {},
   "outputs": [],
   "source": [
    "df_atestados_meses.rename(columns = {'JAN': 1,\"FEV\":2,\"MAR\":3,\"ABR\":4,\"MAIO\":5,\"JUN\":6,\"JUL\":7,\"AGO\":8,\"SET\":9,\"OUT\":10,\"NOV\":11,\"DEZ\":12}, inplace = True)"
   ]
  },
  {
   "cell_type": "code",
   "execution_count": 33,
   "metadata": {},
   "outputs": [],
   "source": [
    "df_atestados_meses.sort_index(axis = 1, inplace = True)"
   ]
  },
  {
   "cell_type": "code",
   "execution_count": 34,
   "metadata": {},
   "outputs": [],
   "source": [
    "df_atestados_meses.rename(columns = {1: 'JANEIRO',2:\"FEV\",3:\"MAR\",4:\"ABR\",5:\"MAIO\",6:\"JUN\",7:\"JUL\",8:\"AGO\",9:\"SET\",10:\"OUT\",11:\"NOV\",12:\"DEZ\"}, inplace = True)"
   ]
  },
  {
   "cell_type": "code",
   "execution_count": 35,
   "metadata": {},
   "outputs": [
    {
     "data": {
      "text/html": [
       "<div>\n",
       "<style scoped>\n",
       "    .dataframe tbody tr th:only-of-type {\n",
       "        vertical-align: middle;\n",
       "    }\n",
       "\n",
       "    .dataframe tbody tr th {\n",
       "        vertical-align: top;\n",
       "    }\n",
       "\n",
       "    .dataframe thead th {\n",
       "        text-align: right;\n",
       "    }\n",
       "</style>\n",
       "<table border=\"1\" class=\"dataframe\">\n",
       "  <thead>\n",
       "    <tr style=\"text-align: right;\">\n",
       "      <th></th>\n",
       "      <th>JANEIRO</th>\n",
       "      <th>FEV</th>\n",
       "      <th>MAR</th>\n",
       "      <th>ABR</th>\n",
       "      <th>MAIO</th>\n",
       "      <th>JUN</th>\n",
       "      <th>JUL</th>\n",
       "      <th>AGO</th>\n",
       "      <th>SET</th>\n",
       "      <th>OUT</th>\n",
       "      <th>NOV</th>\n",
       "      <th>DEZ</th>\n",
       "    </tr>\n",
       "  </thead>\n",
       "  <tbody>\n",
       "    <tr>\n",
       "      <th>QTE DE LICENÇAS MÉDICAS</th>\n",
       "      <td>0</td>\n",
       "      <td>0</td>\n",
       "      <td>0</td>\n",
       "      <td>0</td>\n",
       "      <td>152</td>\n",
       "      <td>162</td>\n",
       "      <td>200</td>\n",
       "      <td>199</td>\n",
       "      <td>153</td>\n",
       "      <td>199</td>\n",
       "      <td>0</td>\n",
       "      <td>0</td>\n",
       "    </tr>\n",
       "    <tr>\n",
       "      <th>QTE DIAS PERDIDOS</th>\n",
       "      <td>0</td>\n",
       "      <td>0</td>\n",
       "      <td>0</td>\n",
       "      <td>0</td>\n",
       "      <td>360</td>\n",
       "      <td>341</td>\n",
       "      <td>485</td>\n",
       "      <td>426</td>\n",
       "      <td>332</td>\n",
       "      <td>411</td>\n",
       "      <td>0</td>\n",
       "      <td>0</td>\n",
       "    </tr>\n",
       "  </tbody>\n",
       "</table>\n",
       "</div>"
      ],
      "text/plain": [
       "                         JANEIRO  FEV  MAR  ABR MAIO  JUN  JUL  AGO  SET  OUT  \\\n",
       "QTE DE LICENÇAS MÉDICAS        0    0    0    0  152  162  200  199  153  199   \n",
       "QTE DIAS PERDIDOS              0    0    0    0  360  341  485  426  332  411   \n",
       "\n",
       "                         NOV  DEZ  \n",
       "QTE DE LICENÇAS MÉDICAS    0    0  \n",
       "QTE DIAS PERDIDOS          0    0  "
      ]
     },
     "execution_count": 35,
     "metadata": {},
     "output_type": "execute_result"
    }
   ],
   "source": [
    "df_atestados_meses"
   ]
  },
  {
   "cell_type": "markdown",
   "metadata": {},
   "source": [
    "## QUANTIDADE DE LICENÇAS MÉDICAS POR UNIDADE"
   ]
  },
  {
   "cell_type": "code",
   "execution_count": 36,
   "metadata": {},
   "outputs": [
    {
     "data": {
      "text/html": [
       "<div>\n",
       "<style scoped>\n",
       "    .dataframe tbody tr th:only-of-type {\n",
       "        vertical-align: middle;\n",
       "    }\n",
       "\n",
       "    .dataframe tbody tr th {\n",
       "        vertical-align: top;\n",
       "    }\n",
       "\n",
       "    .dataframe thead th {\n",
       "        text-align: right;\n",
       "    }\n",
       "</style>\n",
       "<table border=\"1\" class=\"dataframe\">\n",
       "  <thead>\n",
       "    <tr style=\"text-align: right;\">\n",
       "      <th></th>\n",
       "      <th>mes</th>\n",
       "      <th>loja</th>\n",
       "    </tr>\n",
       "  </thead>\n",
       "  <tbody>\n",
       "    <tr>\n",
       "      <th>0</th>\n",
       "      <td>5</td>\n",
       "      <td>VENDAS - BARROSO</td>\n",
       "    </tr>\n",
       "    <tr>\n",
       "      <th>1</th>\n",
       "      <td>5</td>\n",
       "      <td>CAIXA - PONTA NEGRA</td>\n",
       "    </tr>\n",
       "    <tr>\n",
       "      <th>2</th>\n",
       "      <td>5</td>\n",
       "      <td>LOTERIA - PVH CENTRO</td>\n",
       "    </tr>\n",
       "    <tr>\n",
       "      <th>3</th>\n",
       "      <td>5</td>\n",
       "      <td>LOTERIA - PVH CENTRO</td>\n",
       "    </tr>\n",
       "    <tr>\n",
       "      <th>4</th>\n",
       "      <td>5</td>\n",
       "      <td>CAIXA - SHOPPING P VELHO</td>\n",
       "    </tr>\n",
       "  </tbody>\n",
       "</table>\n",
       "</div>"
      ],
      "text/plain": [
       "   mes                      loja\n",
       "0    5          VENDAS - BARROSO\n",
       "1    5       CAIXA - PONTA NEGRA\n",
       "2    5      LOTERIA - PVH CENTRO\n",
       "3    5      LOTERIA - PVH CENTRO\n",
       "4    5  CAIXA - SHOPPING P VELHO"
      ]
     },
     "execution_count": 36,
     "metadata": {},
     "output_type": "execute_result"
    }
   ],
   "source": [
    "df_atestados_unidade.head()"
   ]
  },
  {
   "cell_type": "markdown",
   "metadata": {},
   "source": [
    "### Padronizando os nomes das lojas"
   ]
  },
  {
   "cell_type": "code",
   "execution_count": 37,
   "metadata": {},
   "outputs": [],
   "source": [
    "# df_atestados_unidade['loja'] = df_atestados_unidade['loja'].str.replace(\" \",\"-\")"
   ]
  },
  {
   "cell_type": "code",
   "execution_count": 38,
   "metadata": {},
   "outputs": [
    {
     "data": {
      "text/html": [
       "<div>\n",
       "<style scoped>\n",
       "    .dataframe tbody tr th:only-of-type {\n",
       "        vertical-align: middle;\n",
       "    }\n",
       "\n",
       "    .dataframe tbody tr th {\n",
       "        vertical-align: top;\n",
       "    }\n",
       "\n",
       "    .dataframe thead th {\n",
       "        text-align: right;\n",
       "    }\n",
       "</style>\n",
       "<table border=\"1\" class=\"dataframe\">\n",
       "  <thead>\n",
       "    <tr style=\"text-align: right;\">\n",
       "      <th></th>\n",
       "      <th>mes</th>\n",
       "      <th>loja</th>\n",
       "    </tr>\n",
       "  </thead>\n",
       "  <tbody>\n",
       "    <tr>\n",
       "      <th>0</th>\n",
       "      <td>5</td>\n",
       "      <td>VENDAS - BARROSO</td>\n",
       "    </tr>\n",
       "    <tr>\n",
       "      <th>1</th>\n",
       "      <td>5</td>\n",
       "      <td>CAIXA - PONTA NEGRA</td>\n",
       "    </tr>\n",
       "    <tr>\n",
       "      <th>2</th>\n",
       "      <td>5</td>\n",
       "      <td>LOTERIA - PVH CENTRO</td>\n",
       "    </tr>\n",
       "    <tr>\n",
       "      <th>3</th>\n",
       "      <td>5</td>\n",
       "      <td>LOTERIA - PVH CENTRO</td>\n",
       "    </tr>\n",
       "    <tr>\n",
       "      <th>4</th>\n",
       "      <td>5</td>\n",
       "      <td>CAIXA - SHOPPING P VELHO</td>\n",
       "    </tr>\n",
       "    <tr>\n",
       "      <th>5</th>\n",
       "      <td>5</td>\n",
       "      <td>VENDAS - SHOPPING BOA VISTA</td>\n",
       "    </tr>\n",
       "    <tr>\n",
       "      <th>6</th>\n",
       "      <td>5</td>\n",
       "      <td>CAIXA - EDUCANDOS</td>\n",
       "    </tr>\n",
       "    <tr>\n",
       "      <th>7</th>\n",
       "      <td>5</td>\n",
       "      <td>LOTERIA - TORQUATO</td>\n",
       "    </tr>\n",
       "    <tr>\n",
       "      <th>8</th>\n",
       "      <td>5</td>\n",
       "      <td>CAIXA - CAMAPUA</td>\n",
       "    </tr>\n",
       "    <tr>\n",
       "      <th>9</th>\n",
       "      <td>5</td>\n",
       "      <td>CAIXA - CAMAPUA</td>\n",
       "    </tr>\n",
       "    <tr>\n",
       "      <th>10</th>\n",
       "      <td>5</td>\n",
       "      <td>LOTERIA - SHOPPING PVH</td>\n",
       "    </tr>\n",
       "    <tr>\n",
       "      <th>11</th>\n",
       "      <td>5</td>\n",
       "      <td>RECEPÇÃO - AVENIDA</td>\n",
       "    </tr>\n",
       "    <tr>\n",
       "      <th>12</th>\n",
       "      <td>5</td>\n",
       "      <td>CAIXA - BEMOL FARMA AM SHOPPING</td>\n",
       "    </tr>\n",
       "    <tr>\n",
       "      <th>13</th>\n",
       "      <td>5</td>\n",
       "      <td>SAC_CADASTRO - SHP PORTO VELHO</td>\n",
       "    </tr>\n",
       "    <tr>\n",
       "      <th>14</th>\n",
       "      <td>5</td>\n",
       "      <td>VENDAS - CIDADE NOVA</td>\n",
       "    </tr>\n",
       "    <tr>\n",
       "      <th>15</th>\n",
       "      <td>5</td>\n",
       "      <td>FARMA MANAUARA</td>\n",
       "    </tr>\n",
       "    <tr>\n",
       "      <th>16</th>\n",
       "      <td>5</td>\n",
       "      <td>COORDENACAO CD - CD RIO BRANCO</td>\n",
       "    </tr>\n",
       "    <tr>\n",
       "      <th>17</th>\n",
       "      <td>5</td>\n",
       "      <td>CAIXA - PORTO VELHO</td>\n",
       "    </tr>\n",
       "    <tr>\n",
       "      <th>18</th>\n",
       "      <td>5</td>\n",
       "      <td>OPERADOR(A) DE CAIXA</td>\n",
       "    </tr>\n",
       "    <tr>\n",
       "      <th>19</th>\n",
       "      <td>5</td>\n",
       "      <td>VENDAS - SHOPPING</td>\n",
       "    </tr>\n",
       "    <tr>\n",
       "      <th>20</th>\n",
       "      <td>5</td>\n",
       "      <td>ALMOXARIFADO - EDUCANDOS</td>\n",
       "    </tr>\n",
       "    <tr>\n",
       "      <th>21</th>\n",
       "      <td>5</td>\n",
       "      <td>VENDAS - EDUCANDOS</td>\n",
       "    </tr>\n",
       "    <tr>\n",
       "      <th>22</th>\n",
       "      <td>5</td>\n",
       "      <td>LOTERIA - NOVA CIDADE</td>\n",
       "    </tr>\n",
       "    <tr>\n",
       "      <th>23</th>\n",
       "      <td>5</td>\n",
       "      <td>NaN</td>\n",
       "    </tr>\n",
       "    <tr>\n",
       "      <th>24</th>\n",
       "      <td>5</td>\n",
       "      <td>LOTERIA - ITACOATIARA</td>\n",
       "    </tr>\n",
       "    <tr>\n",
       "      <th>25</th>\n",
       "      <td>5</td>\n",
       "      <td>VENDAS - BARROSO</td>\n",
       "    </tr>\n",
       "    <tr>\n",
       "      <th>26</th>\n",
       "      <td>5</td>\n",
       "      <td>VENDAS - PONTA NEGRA</td>\n",
       "    </tr>\n",
       "    <tr>\n",
       "      <th>27</th>\n",
       "      <td>5</td>\n",
       "      <td>GERENCIA - PONTA NEGRA SHOPPING</td>\n",
       "    </tr>\n",
       "    <tr>\n",
       "      <th>28</th>\n",
       "      <td>5</td>\n",
       "      <td>CAIXA - PONTA NEGRA SHOPPING</td>\n",
       "    </tr>\n",
       "    <tr>\n",
       "      <th>29</th>\n",
       "      <td>5</td>\n",
       "      <td>VENDAS - SHOPPING</td>\n",
       "    </tr>\n",
       "    <tr>\n",
       "      <th>...</th>\n",
       "      <td>...</td>\n",
       "      <td>...</td>\n",
       "    </tr>\n",
       "    <tr>\n",
       "      <th>1037</th>\n",
       "      <td>10</td>\n",
       "      <td>MILLENNIUM</td>\n",
       "    </tr>\n",
       "    <tr>\n",
       "      <th>1038</th>\n",
       "      <td>10</td>\n",
       "      <td>FARMA CAMAPUÃ</td>\n",
       "    </tr>\n",
       "    <tr>\n",
       "      <th>1039</th>\n",
       "      <td>10</td>\n",
       "      <td>BOL</td>\n",
       "    </tr>\n",
       "    <tr>\n",
       "      <th>1040</th>\n",
       "      <td>10</td>\n",
       "      <td>FARMA AM SHOPPING</td>\n",
       "    </tr>\n",
       "    <tr>\n",
       "      <th>1041</th>\n",
       "      <td>10</td>\n",
       "      <td>CD - PVH</td>\n",
       "    </tr>\n",
       "    <tr>\n",
       "      <th>1042</th>\n",
       "      <td>10</td>\n",
       "      <td>NOVA CIDADE</td>\n",
       "    </tr>\n",
       "    <tr>\n",
       "      <th>1043</th>\n",
       "      <td>10</td>\n",
       "      <td>MANACAPURU</td>\n",
       "    </tr>\n",
       "    <tr>\n",
       "      <th>1044</th>\n",
       "      <td>10</td>\n",
       "      <td>CIDADE NOVA</td>\n",
       "    </tr>\n",
       "    <tr>\n",
       "      <th>1045</th>\n",
       "      <td>10</td>\n",
       "      <td>NOVA CIDADE</td>\n",
       "    </tr>\n",
       "    <tr>\n",
       "      <th>1046</th>\n",
       "      <td>10</td>\n",
       "      <td>MILLENNIUM</td>\n",
       "    </tr>\n",
       "    <tr>\n",
       "      <th>1047</th>\n",
       "      <td>10</td>\n",
       "      <td>ITACOATIARA</td>\n",
       "    </tr>\n",
       "    <tr>\n",
       "      <th>1048</th>\n",
       "      <td>10</td>\n",
       "      <td>NOVA CIDADE</td>\n",
       "    </tr>\n",
       "    <tr>\n",
       "      <th>1049</th>\n",
       "      <td>10</td>\n",
       "      <td>PONTA NEGRA</td>\n",
       "    </tr>\n",
       "    <tr>\n",
       "      <th>1050</th>\n",
       "      <td>10</td>\n",
       "      <td>FARMA CAMAPUÃ</td>\n",
       "    </tr>\n",
       "    <tr>\n",
       "      <th>1051</th>\n",
       "      <td>10</td>\n",
       "      <td>TORQUATO</td>\n",
       "    </tr>\n",
       "    <tr>\n",
       "      <th>1052</th>\n",
       "      <td>10</td>\n",
       "      <td>TORQUATO</td>\n",
       "    </tr>\n",
       "    <tr>\n",
       "      <th>1053</th>\n",
       "      <td>10</td>\n",
       "      <td>MATRIZ</td>\n",
       "    </tr>\n",
       "    <tr>\n",
       "      <th>1054</th>\n",
       "      <td>10</td>\n",
       "      <td>CIDADE NOVA</td>\n",
       "    </tr>\n",
       "    <tr>\n",
       "      <th>1055</th>\n",
       "      <td>10</td>\n",
       "      <td>CIDADE NOVA</td>\n",
       "    </tr>\n",
       "    <tr>\n",
       "      <th>1056</th>\n",
       "      <td>10</td>\n",
       "      <td>CIDADE NOVA</td>\n",
       "    </tr>\n",
       "    <tr>\n",
       "      <th>1057</th>\n",
       "      <td>10</td>\n",
       "      <td>FARMA AM SHOPPING</td>\n",
       "    </tr>\n",
       "    <tr>\n",
       "      <th>1058</th>\n",
       "      <td>10</td>\n",
       "      <td>SHOPPING PVH</td>\n",
       "    </tr>\n",
       "    <tr>\n",
       "      <th>1059</th>\n",
       "      <td>10</td>\n",
       "      <td>CD PORTO VELHO</td>\n",
       "    </tr>\n",
       "    <tr>\n",
       "      <th>1060</th>\n",
       "      <td>10</td>\n",
       "      <td>CIDADE NOVA</td>\n",
       "    </tr>\n",
       "    <tr>\n",
       "      <th>1061</th>\n",
       "      <td>10</td>\n",
       "      <td>ITACOATIARA</td>\n",
       "    </tr>\n",
       "    <tr>\n",
       "      <th>1062</th>\n",
       "      <td>10</td>\n",
       "      <td>CD PORTO VELHO</td>\n",
       "    </tr>\n",
       "    <tr>\n",
       "      <th>1063</th>\n",
       "      <td>10</td>\n",
       "      <td>PORTO VELHO</td>\n",
       "    </tr>\n",
       "    <tr>\n",
       "      <th>1064</th>\n",
       "      <td>10</td>\n",
       "      <td>PORTO VELHO</td>\n",
       "    </tr>\n",
       "    <tr>\n",
       "      <th>1065</th>\n",
       "      <td>10</td>\n",
       "      <td>CD PORTO VELHO</td>\n",
       "    </tr>\n",
       "    <tr>\n",
       "      <th>1066</th>\n",
       "      <td>10</td>\n",
       "      <td>PORTO VELHO</td>\n",
       "    </tr>\n",
       "  </tbody>\n",
       "</table>\n",
       "<p>1065 rows × 2 columns</p>\n",
       "</div>"
      ],
      "text/plain": [
       "      mes                             loja\n",
       "0       5                 VENDAS - BARROSO\n",
       "1       5              CAIXA - PONTA NEGRA\n",
       "2       5             LOTERIA - PVH CENTRO\n",
       "3       5             LOTERIA - PVH CENTRO\n",
       "4       5         CAIXA - SHOPPING P VELHO\n",
       "5       5      VENDAS - SHOPPING BOA VISTA\n",
       "6       5                CAIXA - EDUCANDOS\n",
       "7       5               LOTERIA - TORQUATO\n",
       "8       5                  CAIXA - CAMAPUA\n",
       "9       5                  CAIXA - CAMAPUA\n",
       "10      5           LOTERIA - SHOPPING PVH\n",
       "11      5               RECEPÇÃO - AVENIDA\n",
       "12      5  CAIXA - BEMOL FARMA AM SHOPPING\n",
       "13      5   SAC_CADASTRO - SHP PORTO VELHO\n",
       "14      5             VENDAS - CIDADE NOVA\n",
       "15      5                   FARMA MANAUARA\n",
       "16      5   COORDENACAO CD - CD RIO BRANCO\n",
       "17      5              CAIXA - PORTO VELHO\n",
       "18      5             OPERADOR(A) DE CAIXA\n",
       "19      5                VENDAS - SHOPPING\n",
       "20      5         ALMOXARIFADO - EDUCANDOS\n",
       "21      5               VENDAS - EDUCANDOS\n",
       "22      5            LOTERIA - NOVA CIDADE\n",
       "23      5                              NaN\n",
       "24      5            LOTERIA - ITACOATIARA\n",
       "25      5                 VENDAS - BARROSO\n",
       "26      5             VENDAS - PONTA NEGRA\n",
       "27      5  GERENCIA - PONTA NEGRA SHOPPING\n",
       "28      5     CAIXA - PONTA NEGRA SHOPPING\n",
       "29      5                VENDAS - SHOPPING\n",
       "...   ...                              ...\n",
       "1037   10                       MILLENNIUM\n",
       "1038   10                    FARMA CAMAPUÃ\n",
       "1039   10                              BOL\n",
       "1040   10                FARMA AM SHOPPING\n",
       "1041   10                         CD - PVH\n",
       "1042   10                      NOVA CIDADE\n",
       "1043   10                       MANACAPURU\n",
       "1044   10                      CIDADE NOVA\n",
       "1045   10                      NOVA CIDADE\n",
       "1046   10                       MILLENNIUM\n",
       "1047   10                      ITACOATIARA\n",
       "1048   10                      NOVA CIDADE\n",
       "1049   10                      PONTA NEGRA\n",
       "1050   10                    FARMA CAMAPUÃ\n",
       "1051   10                         TORQUATO\n",
       "1052   10                         TORQUATO\n",
       "1053   10                           MATRIZ\n",
       "1054   10                      CIDADE NOVA\n",
       "1055   10                      CIDADE NOVA\n",
       "1056   10                      CIDADE NOVA\n",
       "1057   10                FARMA AM SHOPPING\n",
       "1058   10                     SHOPPING PVH\n",
       "1059   10                   CD PORTO VELHO\n",
       "1060   10                      CIDADE NOVA\n",
       "1061   10                      ITACOATIARA\n",
       "1062   10                   CD PORTO VELHO\n",
       "1063   10                      PORTO VELHO\n",
       "1064   10                      PORTO VELHO\n",
       "1065   10                   CD PORTO VELHO\n",
       "1066   10                      PORTO VELHO\n",
       "\n",
       "[1065 rows x 2 columns]"
      ]
     },
     "execution_count": 38,
     "metadata": {},
     "output_type": "execute_result"
    }
   ],
   "source": [
    "df_atestados_unidade"
   ]
  },
  {
   "cell_type": "code",
   "execution_count": null,
   "metadata": {},
   "outputs": [],
   "source": []
  },
  {
   "cell_type": "code",
   "execution_count": null,
   "metadata": {},
   "outputs": [],
   "source": []
  },
  {
   "cell_type": "markdown",
   "metadata": {},
   "source": [
    "### fazendo o filtro e agrupando por unidade agg na uantidade de meses repetidos"
   ]
  },
  {
   "cell_type": "code",
   "execution_count": null,
   "metadata": {},
   "outputs": [],
   "source": []
  }
 ],
 "metadata": {
  "kernelspec": {
   "display_name": "Python 3",
   "language": "python",
   "name": "python3"
  },
  "language_info": {
   "codemirror_mode": {
    "name": "ipython",
    "version": 3
   },
   "file_extension": ".py",
   "mimetype": "text/x-python",
   "name": "python",
   "nbconvert_exporter": "python",
   "pygments_lexer": "ipython3",
   "version": "3.7.3"
  }
 },
 "nbformat": 4,
 "nbformat_minor": 4
}

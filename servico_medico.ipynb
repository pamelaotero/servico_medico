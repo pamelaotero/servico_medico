{
 "cells": [
  {
   "cell_type": "code",
   "execution_count": 1,
   "metadata": {},
   "outputs": [],
   "source": [
    "import pandas as pd"
   ]
  },
  {
   "cell_type": "code",
   "execution_count": 2,
   "metadata": {},
   "outputs": [],
   "source": [
    "from glob import glob"
   ]
  },
  {
   "cell_type": "code",
   "execution_count": 3,
   "metadata": {},
   "outputs": [
    {
     "name": "stdout",
     "output_type": "stream",
     "text": [
      "Bem Vindo(a) :D \n"
     ]
    }
   ],
   "source": [
    "print(\"Bem Vindo(a) :D \")"
   ]
  },
  {
   "cell_type": "code",
   "execution_count": 4,
   "metadata": {},
   "outputs": [
    {
     "name": "stdout",
     "output_type": "stream",
     "text": [
      "Lendo bases...\n"
     ]
    }
   ],
   "source": [
    "print(\"Lendo bases...\")"
   ]
  },
  {
   "cell_type": "code",
   "execution_count": 5,
   "metadata": {},
   "outputs": [],
   "source": [
    "df_base_atestados = pd.read_excel(glob(\"bases/*\")[0], index_col = None)"
   ]
  },
  {
   "cell_type": "code",
   "execution_count": 6,
   "metadata": {},
   "outputs": [
    {
     "data": {
      "text/html": [
       "<div>\n",
       "<style scoped>\n",
       "    .dataframe tbody tr th:only-of-type {\n",
       "        vertical-align: middle;\n",
       "    }\n",
       "\n",
       "    .dataframe tbody tr th {\n",
       "        vertical-align: top;\n",
       "    }\n",
       "\n",
       "    .dataframe thead th {\n",
       "        text-align: right;\n",
       "    }\n",
       "</style>\n",
       "<table border=\"1\" class=\"dataframe\">\n",
       "  <thead>\n",
       "    <tr style=\"text-align: right;\">\n",
       "      <th></th>\n",
       "      <th>aaDATA no SAP</th>\n",
       "      <th>MAT</th>\n",
       "      <th>NOME</th>\n",
       "      <th>IDADE</th>\n",
       "      <th>SEXO</th>\n",
       "      <th>FUNÇÃO</th>\n",
       "      <th>LOJA</th>\n",
       "      <th>DATA INICIAL ATESTADO</th>\n",
       "      <th>DATA FINAL ATESTADO</th>\n",
       "      <th>VAI PRO INSS?</th>\n",
       "      <th>DIAS PERDIDOS</th>\n",
       "      <th>CID-10</th>\n",
       "      <th>GRUPO DE DOENÇAS</th>\n",
       "      <th>LÇDO NO SOC?</th>\n",
       "      <th>OBS.: &gt; DE 15 DIAS,SÓ CONTABILIZAR OS 15 DIAS QUE A EMPESA PAGA, POIS RESTANTE É PELO INSS</th>\n",
       "      <th>Unnamed: 15</th>\n",
       "      <th>Unnamed: 16</th>\n",
       "    </tr>\n",
       "  </thead>\n",
       "  <tbody>\n",
       "    <tr>\n",
       "      <th>0</th>\n",
       "      <td>2019-05-10 00:00:00</td>\n",
       "      <td>4402</td>\n",
       "      <td>MARIA LUIZA BARBOSA DE SOUZA RICARDO</td>\n",
       "      <td>55</td>\n",
       "      <td>F</td>\n",
       "      <td>VENDEDOR VITRINE</td>\n",
       "      <td>VENDAS - BARROSO</td>\n",
       "      <td>2019-05-08 00:00:00</td>\n",
       "      <td>2019-05-08 00:00:00</td>\n",
       "      <td>NÃO</td>\n",
       "      <td>1</td>\n",
       "      <td>Z019</td>\n",
       "      <td>EXAME</td>\n",
       "      <td>SIM 30.05.2019</td>\n",
       "      <td>NaN</td>\n",
       "      <td>NaN</td>\n",
       "      <td>NaN</td>\n",
       "    </tr>\n",
       "  </tbody>\n",
       "</table>\n",
       "</div>"
      ],
      "text/plain": [
       "         aaDATA no SAP   MAT                                  NOME IDADE SEXO  \\\n",
       "0  2019-05-10 00:00:00  4402  MARIA LUIZA BARBOSA DE SOUZA RICARDO    55    F   \n",
       "\n",
       "             FUNÇÃO              LOJA DATA INICIAL ATESTADO  \\\n",
       "0  VENDEDOR VITRINE  VENDAS - BARROSO   2019-05-08 00:00:00   \n",
       "\n",
       "   DATA FINAL ATESTADO VAI PRO INSS? DIAS PERDIDOS CID-10  GRUPO DE DOENÇAS  \\\n",
       "0  2019-05-08 00:00:00           NÃO             1    Z019            EXAME   \n",
       "\n",
       "     LÇDO NO SOC?  \\\n",
       "0  SIM 30.05.2019   \n",
       "\n",
       "  OBS.: > DE 15 DIAS,SÓ CONTABILIZAR OS 15 DIAS QUE A EMPESA PAGA, POIS RESTANTE É PELO INSS  \\\n",
       "0                                                NaN                                           \n",
       "\n",
       "  Unnamed: 15  Unnamed: 16  \n",
       "0         NaN          NaN  "
      ]
     },
     "execution_count": 6,
     "metadata": {},
     "output_type": "execute_result"
    }
   ],
   "source": [
    "df_base_atestados.head(1)"
   ]
  },
  {
   "cell_type": "code",
   "execution_count": 7,
   "metadata": {},
   "outputs": [],
   "source": [
    "df_base_atestados.columns = ['data_sap','matricula','nome','idade','sexo','funcao','loja','data_inicial','data_final','vai_inss','dias_perdidos','cib_10','grupo_doenca','lcdo_soc','','','']"
   ]
  },
  {
   "cell_type": "code",
   "execution_count": 8,
   "metadata": {},
   "outputs": [],
   "source": [
    "df_base_atestados_filtrado = df_base_atestados[['data_sap','matricula','nome','idade','sexo','funcao','loja','data_inicial','data_final','vai_inss','dias_perdidos','cib_10','grupo_doenca','lcdo_soc']].copy()"
   ]
  },
  {
   "cell_type": "code",
   "execution_count": 9,
   "metadata": {},
   "outputs": [],
   "source": [
    "df_base_atestados_filtrado = df_base_atestados_filtrado[~df_base_atestados_filtrado['matricula'].isnull()].copy()"
   ]
  },
  {
   "cell_type": "code",
   "execution_count": 10,
   "metadata": {},
   "outputs": [],
   "source": [
    "df_base_atestados_filtxsdsrado = df_base_atestados_filtrado[df_base_atestados_filtrado['nome'] != 'NOME'].copy()"
   ]
  },
  {
   "cell_type": "code",
   "execution_count": 11,
   "metadata": {},
   "outputs": [],
   "source": [
    "df_atestados_meses = df_base_atestados_filtrado[['data_inicial','dias_perdidos']].copy()"
   ]
  },
  {
   "cell_type": "code",
   "execution_count": 12,
   "metadata": {},
   "outputs": [],
   "source": [
    "### Pegando somente o dado que necessita que é o mês\n",
    "df_atestados_meses['data_inicial'] = df_atestados_meses['data_inicial'].astype(str)"
   ]
  },
  {
   "cell_type": "code",
   "execution_count": 13,
   "metadata": {},
   "outputs": [],
   "source": [
    "df_atestados_meses['data_inicial'] = df_atestados_meses['data_inicial'].str.replace(\".\",\"-\")\n",
    "df_atestados_meses['data_inicial'] = df_atestados_meses['data_inicial'].str.replace(\":\",\"-\")\n",
    "df_atestados_meses['data_inicial'] = df_atestados_meses['data_inicial'].str.replace(\" \",\"-\")"
   ]
  },
  {
   "cell_type": "code",
   "execution_count": 14,
   "metadata": {},
   "outputs": [],
   "source": [
    "df_atestados_meses['mes'] = df_atestados_meses['data_inicial'].apply(lambda item: str(item).split('-')[1])"
   ]
  },
  {
   "cell_type": "code",
   "execution_count": 15,
   "metadata": {},
   "outputs": [],
   "source": [
    "df_atestados_meses.drop(columns = {'data_inicial'}, inplace = True)"
   ]
  },
  {
   "cell_type": "code",
   "execution_count": 16,
   "metadata": {},
   "outputs": [],
   "source": [
    "df_atestados_meses = df_atestados_meses[~df_atestados_meses['mes'].str.contains('INICIAL')]"
   ]
  },
  {
   "cell_type": "code",
   "execution_count": 17,
   "metadata": {},
   "outputs": [],
   "source": [
    "df_atestados_meses['mes'] = df_atestados_meses['mes'].astype(int)"
   ]
  },
  {
   "cell_type": "code",
   "execution_count": 18,
   "metadata": {},
   "outputs": [],
   "source": [
    "df_atestados_meses['mes_copiado'] = df_atestados_meses['mes']  "
   ]
  },
  {
   "cell_type": "code",
   "execution_count": 19,
   "metadata": {},
   "outputs": [],
   "source": [
    "## quantidade de dias perdidos por mês e quantidade de atestados por mês\n",
    "df_atestados_meses = df_atestados_meses.groupby('mes', as_index = False).agg({'mes_copiado': 'count','dias_perdidos':'sum'})"
   ]
  },
  {
   "cell_type": "code",
   "execution_count": 20,
   "metadata": {},
   "outputs": [],
   "source": [
    "df_atestados_meses.rename(columns = {'mes_copiado':'QTE DE LICENÇAS MÉDICAS','dias_perdidos':'QTE DIAS PERDIDOS'}, inplace = True)"
   ]
  },
  {
   "cell_type": "code",
   "execution_count": 21,
   "metadata": {},
   "outputs": [
    {
     "data": {
      "text/html": [
       "<div>\n",
       "<style scoped>\n",
       "    .dataframe tbody tr th:only-of-type {\n",
       "        vertical-align: middle;\n",
       "    }\n",
       "\n",
       "    .dataframe tbody tr th {\n",
       "        vertical-align: top;\n",
       "    }\n",
       "\n",
       "    .dataframe thead th {\n",
       "        text-align: right;\n",
       "    }\n",
       "</style>\n",
       "<table border=\"1\" class=\"dataframe\">\n",
       "  <thead>\n",
       "    <tr style=\"text-align: right;\">\n",
       "      <th></th>\n",
       "      <th>mes</th>\n",
       "      <th>QTE DE LICENÇAS MÉDICAS</th>\n",
       "      <th>QTE DIAS PERDIDOS</th>\n",
       "    </tr>\n",
       "  </thead>\n",
       "  <tbody>\n",
       "    <tr>\n",
       "      <th>0</th>\n",
       "      <td>5</td>\n",
       "      <td>152</td>\n",
       "      <td>360</td>\n",
       "    </tr>\n",
       "    <tr>\n",
       "      <th>1</th>\n",
       "      <td>6</td>\n",
       "      <td>162</td>\n",
       "      <td>341</td>\n",
       "    </tr>\n",
       "    <tr>\n",
       "      <th>2</th>\n",
       "      <td>7</td>\n",
       "      <td>200</td>\n",
       "      <td>485</td>\n",
       "    </tr>\n",
       "    <tr>\n",
       "      <th>3</th>\n",
       "      <td>8</td>\n",
       "      <td>199</td>\n",
       "      <td>426</td>\n",
       "    </tr>\n",
       "    <tr>\n",
       "      <th>4</th>\n",
       "      <td>9</td>\n",
       "      <td>153</td>\n",
       "      <td>332</td>\n",
       "    </tr>\n",
       "    <tr>\n",
       "      <th>5</th>\n",
       "      <td>10</td>\n",
       "      <td>199</td>\n",
       "      <td>411</td>\n",
       "    </tr>\n",
       "  </tbody>\n",
       "</table>\n",
       "</div>"
      ],
      "text/plain": [
       "   mes  QTE DE LICENÇAS MÉDICAS  QTE DIAS PERDIDOS\n",
       "0    5                      152                360\n",
       "1    6                      162                341\n",
       "2    7                      200                485\n",
       "3    8                      199                426\n",
       "4    9                      153                332\n",
       "5   10                      199                411"
      ]
     },
     "execution_count": 21,
     "metadata": {},
     "output_type": "execute_result"
    }
   ],
   "source": [
    "df_atestados_meses"
   ]
  },
  {
   "cell_type": "code",
   "execution_count": 22,
   "metadata": {},
   "outputs": [],
   "source": [
    "nome_mes = {1: 'JAN', 2: 'FEV', 3:'MARC', 4:'ABR', 5:'MAIO', 6:'JUN', 7:'JUL', 8:'AGO', 9:'SET', 10:'OUT', 11:'NOV' , 12: 'DEZ'}"
   ]
  },
  {
   "cell_type": "code",
   "execution_count": 23,
   "metadata": {},
   "outputs": [],
   "source": [
    "df_atestados_meses['nome_mes'] = df_atestados_meses['mes'].map(nome_mes)"
   ]
  },
  {
   "cell_type": "code",
   "execution_count": 24,
   "metadata": {},
   "outputs": [
    {
     "data": {
      "text/html": [
       "<div>\n",
       "<style scoped>\n",
       "    .dataframe tbody tr th:only-of-type {\n",
       "        vertical-align: middle;\n",
       "    }\n",
       "\n",
       "    .dataframe tbody tr th {\n",
       "        vertical-align: top;\n",
       "    }\n",
       "\n",
       "    .dataframe thead th {\n",
       "        text-align: right;\n",
       "    }\n",
       "</style>\n",
       "<table border=\"1\" class=\"dataframe\">\n",
       "  <thead>\n",
       "    <tr style=\"text-align: right;\">\n",
       "      <th></th>\n",
       "      <th>mes</th>\n",
       "      <th>QTE DE LICENÇAS MÉDICAS</th>\n",
       "      <th>QTE DIAS PERDIDOS</th>\n",
       "      <th>nome_mes</th>\n",
       "    </tr>\n",
       "  </thead>\n",
       "  <tbody>\n",
       "    <tr>\n",
       "      <th>0</th>\n",
       "      <td>5</td>\n",
       "      <td>152</td>\n",
       "      <td>360</td>\n",
       "      <td>MAIO</td>\n",
       "    </tr>\n",
       "    <tr>\n",
       "      <th>1</th>\n",
       "      <td>6</td>\n",
       "      <td>162</td>\n",
       "      <td>341</td>\n",
       "      <td>JUN</td>\n",
       "    </tr>\n",
       "    <tr>\n",
       "      <th>2</th>\n",
       "      <td>7</td>\n",
       "      <td>200</td>\n",
       "      <td>485</td>\n",
       "      <td>JUL</td>\n",
       "    </tr>\n",
       "    <tr>\n",
       "      <th>3</th>\n",
       "      <td>8</td>\n",
       "      <td>199</td>\n",
       "      <td>426</td>\n",
       "      <td>AGO</td>\n",
       "    </tr>\n",
       "    <tr>\n",
       "      <th>4</th>\n",
       "      <td>9</td>\n",
       "      <td>153</td>\n",
       "      <td>332</td>\n",
       "      <td>SET</td>\n",
       "    </tr>\n",
       "    <tr>\n",
       "      <th>5</th>\n",
       "      <td>10</td>\n",
       "      <td>199</td>\n",
       "      <td>411</td>\n",
       "      <td>OUT</td>\n",
       "    </tr>\n",
       "  </tbody>\n",
       "</table>\n",
       "</div>"
      ],
      "text/plain": [
       "   mes  QTE DE LICENÇAS MÉDICAS  QTE DIAS PERDIDOS nome_mes\n",
       "0    5                      152                360     MAIO\n",
       "1    6                      162                341      JUN\n",
       "2    7                      200                485      JUL\n",
       "3    8                      199                426      AGO\n",
       "4    9                      153                332      SET\n",
       "5   10                      199                411      OUT"
      ]
     },
     "execution_count": 24,
     "metadata": {},
     "output_type": "execute_result"
    }
   ],
   "source": [
    "df_atestados_meses\n",
    "\n",
    "## fazer um sort na coluna mes em ordem crescente ## falta fazerrrrr"
   ]
  },
  {
   "cell_type": "code",
   "execution_count": 25,
   "metadata": {},
   "outputs": [],
   "source": [
    "df_antes_trans = df_atestados_meses.T"
   ]
  },
  {
   "cell_type": "code",
   "execution_count": 26,
   "metadata": {},
   "outputs": [
    {
     "data": {
      "text/html": [
       "<div>\n",
       "<style scoped>\n",
       "    .dataframe tbody tr th:only-of-type {\n",
       "        vertical-align: middle;\n",
       "    }\n",
       "\n",
       "    .dataframe tbody tr th {\n",
       "        vertical-align: top;\n",
       "    }\n",
       "\n",
       "    .dataframe thead th {\n",
       "        text-align: right;\n",
       "    }\n",
       "</style>\n",
       "<table border=\"1\" class=\"dataframe\">\n",
       "  <thead>\n",
       "    <tr style=\"text-align: right;\">\n",
       "      <th></th>\n",
       "      <th>0</th>\n",
       "      <th>1</th>\n",
       "      <th>2</th>\n",
       "      <th>3</th>\n",
       "      <th>4</th>\n",
       "      <th>5</th>\n",
       "    </tr>\n",
       "  </thead>\n",
       "  <tbody>\n",
       "    <tr>\n",
       "      <th>mes</th>\n",
       "      <td>5</td>\n",
       "      <td>6</td>\n",
       "      <td>7</td>\n",
       "      <td>8</td>\n",
       "      <td>9</td>\n",
       "      <td>10</td>\n",
       "    </tr>\n",
       "    <tr>\n",
       "      <th>QTE DE LICENÇAS MÉDICAS</th>\n",
       "      <td>152</td>\n",
       "      <td>162</td>\n",
       "      <td>200</td>\n",
       "      <td>199</td>\n",
       "      <td>153</td>\n",
       "      <td>199</td>\n",
       "    </tr>\n",
       "    <tr>\n",
       "      <th>QTE DIAS PERDIDOS</th>\n",
       "      <td>360</td>\n",
       "      <td>341</td>\n",
       "      <td>485</td>\n",
       "      <td>426</td>\n",
       "      <td>332</td>\n",
       "      <td>411</td>\n",
       "    </tr>\n",
       "    <tr>\n",
       "      <th>nome_mes</th>\n",
       "      <td>MAIO</td>\n",
       "      <td>JUN</td>\n",
       "      <td>JUL</td>\n",
       "      <td>AGO</td>\n",
       "      <td>SET</td>\n",
       "      <td>OUT</td>\n",
       "    </tr>\n",
       "  </tbody>\n",
       "</table>\n",
       "</div>"
      ],
      "text/plain": [
       "                            0    1    2    3    4    5\n",
       "mes                         5    6    7    8    9   10\n",
       "QTE DE LICENÇAS MÉDICAS   152  162  200  199  153  199\n",
       "QTE DIAS PERDIDOS         360  341  485  426  332  411\n",
       "nome_mes                 MAIO  JUN  JUL  AGO  SET  OUT"
      ]
     },
     "execution_count": 26,
     "metadata": {},
     "output_type": "execute_result"
    }
   ],
   "source": [
    "df_antes_trans"
   ]
  },
  {
   "cell_type": "code",
   "execution_count": 27,
   "metadata": {},
   "outputs": [],
   "source": [
    "df_antes_trans.columns = df_antes_trans.loc['nome_mes'] \n",
    "df_antes_trans.columns.name = None"
   ]
  },
  {
   "cell_type": "code",
   "execution_count": 28,
   "metadata": {},
   "outputs": [
    {
     "data": {
      "text/html": [
       "<div>\n",
       "<style scoped>\n",
       "    .dataframe tbody tr th:only-of-type {\n",
       "        vertical-align: middle;\n",
       "    }\n",
       "\n",
       "    .dataframe tbody tr th {\n",
       "        vertical-align: top;\n",
       "    }\n",
       "\n",
       "    .dataframe thead th {\n",
       "        text-align: right;\n",
       "    }\n",
       "</style>\n",
       "<table border=\"1\" class=\"dataframe\">\n",
       "  <thead>\n",
       "    <tr style=\"text-align: right;\">\n",
       "      <th></th>\n",
       "      <th>MAIO</th>\n",
       "      <th>JUN</th>\n",
       "      <th>JUL</th>\n",
       "      <th>AGO</th>\n",
       "      <th>SET</th>\n",
       "      <th>OUT</th>\n",
       "    </tr>\n",
       "  </thead>\n",
       "  <tbody>\n",
       "    <tr>\n",
       "      <th>QTE DE LICENÇAS MÉDICAS</th>\n",
       "      <td>152</td>\n",
       "      <td>162</td>\n",
       "      <td>200</td>\n",
       "      <td>199</td>\n",
       "      <td>153</td>\n",
       "      <td>199</td>\n",
       "    </tr>\n",
       "    <tr>\n",
       "      <th>QTE DIAS PERDIDOS</th>\n",
       "      <td>360</td>\n",
       "      <td>341</td>\n",
       "      <td>485</td>\n",
       "      <td>426</td>\n",
       "      <td>332</td>\n",
       "      <td>411</td>\n",
       "    </tr>\n",
       "  </tbody>\n",
       "</table>\n",
       "</div>"
      ],
      "text/plain": [
       "                        MAIO  JUN  JUL  AGO  SET  OUT\n",
       "QTE DE LICENÇAS MÉDICAS  152  162  200  199  153  199\n",
       "QTE DIAS PERDIDOS        360  341  485  426  332  411"
      ]
     },
     "execution_count": 28,
     "metadata": {},
     "output_type": "execute_result"
    }
   ],
   "source": [
    "df_antes_trans.drop(['mes', 'nome_mes'])"
   ]
  },
  {
   "cell_type": "markdown",
   "metadata": {},
   "source": [
    "## ------ Reorganizando os meses com os respectivos nomes -----"
   ]
  },
  {
   "cell_type": "code",
   "execution_count": null,
   "metadata": {},
   "outputs": [],
   "source": []
  }
 ],
 "metadata": {
  "kernelspec": {
   "display_name": "Python 3",
   "language": "python",
   "name": "python3"
  },
  "language_info": {
   "codemirror_mode": {
    "name": "ipython",
    "version": 3
   },
   "file_extension": ".py",
   "mimetype": "text/x-python",
   "name": "python",
   "nbconvert_exporter": "python",
   "pygments_lexer": "ipython3",
   "version": "3.7.3"
  }
 },
 "nbformat": 4,
 "nbformat_minor": 4
}

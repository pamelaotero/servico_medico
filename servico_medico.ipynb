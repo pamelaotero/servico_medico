{
 "cells": [
  {
   "cell_type": "code",
   "execution_count": 1,
   "metadata": {},
   "outputs": [],
   "source": [
    "import pandas as pd"
   ]
  },
  {
   "cell_type": "code",
   "execution_count": 2,
   "metadata": {},
   "outputs": [],
   "source": [
    "from glob import glob "
   ]
  },
  {
   "cell_type": "code",
   "execution_count": 3,
   "metadata": {},
   "outputs": [
    {
     "name": "stdout",
     "output_type": "stream",
     "text": [
      "Bem Vindo(a) :D \n"
     ]
    }
   ],
   "source": [
    "print(\"Bem Vindo(a) :D \")"
   ]
  },
  {
   "cell_type": "code",
   "execution_count": 4,
   "metadata": {},
   "outputs": [
    {
     "name": "stdout",
     "output_type": "stream",
     "text": [
      "Lendo bases...\n"
     ]
    }
   ],
   "source": [
    "print(\"Lendo bases...\")"
   ]
  },
  {
   "cell_type": "code",
   "execution_count": 5,
   "metadata": {},
   "outputs": [],
   "source": [
    "df_base_atestados = pd.read_excel(glob(\"bases/*\")[0], index_col = None)"
   ]
  },
  {
   "cell_type": "code",
   "execution_count": 6,
   "metadata": {},
   "outputs": [],
   "source": [
    "df_base_atestados['LOJA'] = df_base_atestados['LOJA'].astype(str)"
   ]
  },
  {
   "cell_type": "code",
   "execution_count": 7,
   "metadata": {},
   "outputs": [],
   "source": [
    "df_base_atestados.columns = ['data_sap','matricula','nome','idade','sexo','funcao','loja','centro','data_inicial','data_final','vai_inss','dias_perdidos','cib_10','grupo_doenca','lcdo_soc','','','']"
   ]
  },
  {
   "cell_type": "code",
   "execution_count": 8,
   "metadata": {},
   "outputs": [],
   "source": [
    "df_base_atestados_filtrado = df_base_atestados[['data_sap','matricula','nome','idade','sexo','funcao','loja','centro','data_inicial','data_final','vai_inss','dias_perdidos','cib_10','grupo_doenca','lcdo_soc']].copy()"
   ]
  },
  {
   "cell_type": "code",
   "execution_count": 9,
   "metadata": {},
   "outputs": [
    {
     "data": {
      "text/plain": [
       "Index(['data_sap', 'matricula', 'nome', 'idade', 'sexo', 'funcao', 'loja',\n",
       "       'centro', 'data_inicial', 'data_final', 'vai_inss', 'dias_perdidos',\n",
       "       'cib_10', 'grupo_doenca', 'lcdo_soc'],\n",
       "      dtype='object')"
      ]
     },
     "execution_count": 9,
     "metadata": {},
     "output_type": "execute_result"
    }
   ],
   "source": [
    "df_base_atestados_filtrado.columns"
   ]
  },
  {
   "cell_type": "code",
   "execution_count": 10,
   "metadata": {},
   "outputs": [],
   "source": [
    "df_base_atestados_filtrado = df_base_atestados_filtrado[~df_base_atestados_filtrado['matricula'].isnull()].copy()"
   ]
  },
  {
   "cell_type": "code",
   "execution_count": 11,
   "metadata": {},
   "outputs": [],
   "source": [
    "df_base_atestados_filtrado = df_base_atestados_filtrado[df_base_atestados_filtrado['nome'] != 'NOME'].copy()"
   ]
  },
  {
   "cell_type": "markdown",
   "metadata": {},
   "source": [
    "#### filtro das colunas importantes"
   ]
  },
  {
   "cell_type": "code",
   "execution_count": 12,
   "metadata": {},
   "outputs": [],
   "source": [
    "df_atestados_meses = df_base_atestados_filtrado[['data_inicial','dias_perdidos','loja','centro','sexo','idade','funcao','grupo_doenca']].copy()"
   ]
  },
  {
   "cell_type": "markdown",
   "metadata": {},
   "source": [
    "### Afirmando que os nomes das lojas estarão em caixa alta"
   ]
  },
  {
   "cell_type": "code",
   "execution_count": 13,
   "metadata": {},
   "outputs": [],
   "source": [
    "df_atestados_meses['loja'] = df_atestados_meses['loja'].astype(str)"
   ]
  },
  {
   "cell_type": "code",
   "execution_count": 14,
   "metadata": {},
   "outputs": [],
   "source": [
    "df_atestados_meses['loja'] = df_atestados_meses['loja'].str.upper() "
   ]
  },
  {
   "cell_type": "code",
   "execution_count": 15,
   "metadata": {},
   "outputs": [
    {
     "data": {
      "text/html": [
       "<div>\n",
       "<style scoped>\n",
       "    .dataframe tbody tr th:only-of-type {\n",
       "        vertical-align: middle;\n",
       "    }\n",
       "\n",
       "    .dataframe tbody tr th {\n",
       "        vertical-align: top;\n",
       "    }\n",
       "\n",
       "    .dataframe thead th {\n",
       "        text-align: right;\n",
       "    }\n",
       "</style>\n",
       "<table border=\"1\" class=\"dataframe\">\n",
       "  <thead>\n",
       "    <tr style=\"text-align: right;\">\n",
       "      <th></th>\n",
       "      <th>data_inicial</th>\n",
       "      <th>dias_perdidos</th>\n",
       "      <th>loja</th>\n",
       "      <th>centro</th>\n",
       "      <th>sexo</th>\n",
       "      <th>idade</th>\n",
       "      <th>funcao</th>\n",
       "      <th>grupo_doenca</th>\n",
       "    </tr>\n",
       "  </thead>\n",
       "  <tbody>\n",
       "    <tr>\n",
       "      <th>0</th>\n",
       "      <td>2019-05-08 00:00:00</td>\n",
       "      <td>1</td>\n",
       "      <td>VENDAS - BARROSO</td>\n",
       "      <td>107.0</td>\n",
       "      <td>F</td>\n",
       "      <td>55</td>\n",
       "      <td>VENDEDOR VITRINE</td>\n",
       "      <td>EXAME</td>\n",
       "    </tr>\n",
       "    <tr>\n",
       "      <th>1</th>\n",
       "      <td>2019-05-10 00:00:00</td>\n",
       "      <td>1</td>\n",
       "      <td>CAIXA - PONTA NEGRA</td>\n",
       "      <td>114.0</td>\n",
       "      <td>F</td>\n",
       "      <td>31</td>\n",
       "      <td>OPERADOR(A) DE CAIXA</td>\n",
       "      <td>OBSTÉTRICO</td>\n",
       "    </tr>\n",
       "    <tr>\n",
       "      <th>2</th>\n",
       "      <td>2019-05-13 00:00:00</td>\n",
       "      <td>7</td>\n",
       "      <td>LOTERIA - PVH CENTRO</td>\n",
       "      <td>NaN</td>\n",
       "      <td>F</td>\n",
       "      <td>30</td>\n",
       "      <td>PERADOR(A) DE CAIXA-LOT</td>\n",
       "      <td>RESPIRATÓRIO</td>\n",
       "    </tr>\n",
       "    <tr>\n",
       "      <th>3</th>\n",
       "      <td>2019-05-10 00:00:00</td>\n",
       "      <td>2</td>\n",
       "      <td>LOTERIA - PVH CENTRO</td>\n",
       "      <td>NaN</td>\n",
       "      <td>F</td>\n",
       "      <td>30</td>\n",
       "      <td>PERADOR(A) DE CAIXA-LOT</td>\n",
       "      <td>ACOMPANHANTE</td>\n",
       "    </tr>\n",
       "    <tr>\n",
       "      <th>4</th>\n",
       "      <td>2019-05-20 00:00:00</td>\n",
       "      <td>2</td>\n",
       "      <td>CAIXA - SHOPPING P VELHO</td>\n",
       "      <td>NaN</td>\n",
       "      <td>F</td>\n",
       "      <td>27</td>\n",
       "      <td>OPERADOR(A) DE CAIXA</td>\n",
       "      <td>RESPIRATÓRIO</td>\n",
       "    </tr>\n",
       "  </tbody>\n",
       "</table>\n",
       "</div>"
      ],
      "text/plain": [
       "          data_inicial dias_perdidos                      loja  centro sexo  \\\n",
       "0  2019-05-08 00:00:00             1          VENDAS - BARROSO   107.0    F   \n",
       "1  2019-05-10 00:00:00             1       CAIXA - PONTA NEGRA   114.0    F   \n",
       "2  2019-05-13 00:00:00             7      LOTERIA - PVH CENTRO     NaN    F   \n",
       "3  2019-05-10 00:00:00             2      LOTERIA - PVH CENTRO     NaN    F   \n",
       "4  2019-05-20 00:00:00             2  CAIXA - SHOPPING P VELHO     NaN    F   \n",
       "\n",
       "  idade                   funcao  grupo_doenca  \n",
       "0    55         VENDEDOR VITRINE         EXAME  \n",
       "1    31     OPERADOR(A) DE CAIXA    OBSTÉTRICO  \n",
       "2    30  PERADOR(A) DE CAIXA-LOT  RESPIRATÓRIO  \n",
       "3    30  PERADOR(A) DE CAIXA-LOT  ACOMPANHANTE  \n",
       "4    27     OPERADOR(A) DE CAIXA  RESPIRATÓRIO  "
      ]
     },
     "execution_count": 15,
     "metadata": {},
     "output_type": "execute_result"
    }
   ],
   "source": [
    "df_atestados_meses.head()"
   ]
  },
  {
   "cell_type": "code",
   "execution_count": 16,
   "metadata": {},
   "outputs": [],
   "source": [
    "### Pegando somente o dado que necessita que é o mês\n",
    "df_atestados_meses['data_inicial'] = df_atestados_meses['data_inicial'].astype(str)"
   ]
  },
  {
   "cell_type": "code",
   "execution_count": 17,
   "metadata": {},
   "outputs": [],
   "source": [
    "df_atestados_meses['data_inicial'] = df_atestados_meses['data_inicial'].str.replace(\".\",\"-\")\n",
    "df_atestados_meses['data_inicial'] = df_atestados_meses['data_inicial'].str.replace(\":\",\"-\")\n",
    "df_atestados_meses['data_inicial'] = df_atestados_meses['data_inicial'].str.replace(\" \",\"-\")"
   ]
  },
  {
   "cell_type": "code",
   "execution_count": 18,
   "metadata": {},
   "outputs": [],
   "source": [
    "df_atestados_meses['mes'] = df_atestados_meses['data_inicial'].apply(lambda item: str(item).split('-')[1])"
   ]
  },
  {
   "cell_type": "code",
   "execution_count": 19,
   "metadata": {},
   "outputs": [
    {
     "data": {
      "text/html": [
       "<div>\n",
       "<style scoped>\n",
       "    .dataframe tbody tr th:only-of-type {\n",
       "        vertical-align: middle;\n",
       "    }\n",
       "\n",
       "    .dataframe tbody tr th {\n",
       "        vertical-align: top;\n",
       "    }\n",
       "\n",
       "    .dataframe thead th {\n",
       "        text-align: right;\n",
       "    }\n",
       "</style>\n",
       "<table border=\"1\" class=\"dataframe\">\n",
       "  <thead>\n",
       "    <tr style=\"text-align: right;\">\n",
       "      <th></th>\n",
       "      <th>data_inicial</th>\n",
       "      <th>dias_perdidos</th>\n",
       "      <th>loja</th>\n",
       "      <th>centro</th>\n",
       "      <th>sexo</th>\n",
       "      <th>idade</th>\n",
       "      <th>funcao</th>\n",
       "      <th>grupo_doenca</th>\n",
       "      <th>mes</th>\n",
       "    </tr>\n",
       "  </thead>\n",
       "  <tbody>\n",
       "    <tr>\n",
       "      <th>0</th>\n",
       "      <td>2019-05-08-00-00-00</td>\n",
       "      <td>1</td>\n",
       "      <td>VENDAS - BARROSO</td>\n",
       "      <td>107.0</td>\n",
       "      <td>F</td>\n",
       "      <td>55</td>\n",
       "      <td>VENDEDOR VITRINE</td>\n",
       "      <td>EXAME</td>\n",
       "      <td>05</td>\n",
       "    </tr>\n",
       "    <tr>\n",
       "      <th>1</th>\n",
       "      <td>2019-05-10-00-00-00</td>\n",
       "      <td>1</td>\n",
       "      <td>CAIXA - PONTA NEGRA</td>\n",
       "      <td>114.0</td>\n",
       "      <td>F</td>\n",
       "      <td>31</td>\n",
       "      <td>OPERADOR(A) DE CAIXA</td>\n",
       "      <td>OBSTÉTRICO</td>\n",
       "      <td>05</td>\n",
       "    </tr>\n",
       "    <tr>\n",
       "      <th>2</th>\n",
       "      <td>2019-05-13-00-00-00</td>\n",
       "      <td>7</td>\n",
       "      <td>LOTERIA - PVH CENTRO</td>\n",
       "      <td>NaN</td>\n",
       "      <td>F</td>\n",
       "      <td>30</td>\n",
       "      <td>PERADOR(A) DE CAIXA-LOT</td>\n",
       "      <td>RESPIRATÓRIO</td>\n",
       "      <td>05</td>\n",
       "    </tr>\n",
       "    <tr>\n",
       "      <th>3</th>\n",
       "      <td>2019-05-10-00-00-00</td>\n",
       "      <td>2</td>\n",
       "      <td>LOTERIA - PVH CENTRO</td>\n",
       "      <td>NaN</td>\n",
       "      <td>F</td>\n",
       "      <td>30</td>\n",
       "      <td>PERADOR(A) DE CAIXA-LOT</td>\n",
       "      <td>ACOMPANHANTE</td>\n",
       "      <td>05</td>\n",
       "    </tr>\n",
       "    <tr>\n",
       "      <th>4</th>\n",
       "      <td>2019-05-20-00-00-00</td>\n",
       "      <td>2</td>\n",
       "      <td>CAIXA - SHOPPING P VELHO</td>\n",
       "      <td>NaN</td>\n",
       "      <td>F</td>\n",
       "      <td>27</td>\n",
       "      <td>OPERADOR(A) DE CAIXA</td>\n",
       "      <td>RESPIRATÓRIO</td>\n",
       "      <td>05</td>\n",
       "    </tr>\n",
       "  </tbody>\n",
       "</table>\n",
       "</div>"
      ],
      "text/plain": [
       "          data_inicial dias_perdidos                      loja  centro sexo  \\\n",
       "0  2019-05-08-00-00-00             1          VENDAS - BARROSO   107.0    F   \n",
       "1  2019-05-10-00-00-00             1       CAIXA - PONTA NEGRA   114.0    F   \n",
       "2  2019-05-13-00-00-00             7      LOTERIA - PVH CENTRO     NaN    F   \n",
       "3  2019-05-10-00-00-00             2      LOTERIA - PVH CENTRO     NaN    F   \n",
       "4  2019-05-20-00-00-00             2  CAIXA - SHOPPING P VELHO     NaN    F   \n",
       "\n",
       "  idade                   funcao  grupo_doenca mes  \n",
       "0    55         VENDEDOR VITRINE         EXAME  05  \n",
       "1    31     OPERADOR(A) DE CAIXA    OBSTÉTRICO  05  \n",
       "2    30  PERADOR(A) DE CAIXA-LOT  RESPIRATÓRIO  05  \n",
       "3    30  PERADOR(A) DE CAIXA-LOT  ACOMPANHANTE  05  \n",
       "4    27     OPERADOR(A) DE CAIXA  RESPIRATÓRIO  05  "
      ]
     },
     "execution_count": 19,
     "metadata": {},
     "output_type": "execute_result"
    }
   ],
   "source": [
    "df_atestados_meses.head()"
   ]
  },
  {
   "cell_type": "markdown",
   "metadata": {},
   "source": [
    "#  SEPARAÇÃO DOS DATA FRAMES POR FILTRO ESPECÍFICO DE CADA SITUAÇÃO "
   ]
  },
  {
   "cell_type": "markdown",
   "metadata": {},
   "source": [
    "\n",
    "## ------ Filtro para Gerar Quantidade de licenças médicas por Unidade"
   ]
  },
  {
   "cell_type": "code",
   "execution_count": 20,
   "metadata": {},
   "outputs": [],
   "source": [
    "df_licencas_unidade = df_atestados_meses[['loja','mes']].copy()"
   ]
  },
  {
   "cell_type": "code",
   "execution_count": 21,
   "metadata": {},
   "outputs": [
    {
     "data": {
      "text/html": [
       "<div>\n",
       "<style scoped>\n",
       "    .dataframe tbody tr th:only-of-type {\n",
       "        vertical-align: middle;\n",
       "    }\n",
       "\n",
       "    .dataframe tbody tr th {\n",
       "        vertical-align: top;\n",
       "    }\n",
       "\n",
       "    .dataframe thead th {\n",
       "        text-align: right;\n",
       "    }\n",
       "</style>\n",
       "<table border=\"1\" class=\"dataframe\">\n",
       "  <thead>\n",
       "    <tr style=\"text-align: right;\">\n",
       "      <th></th>\n",
       "      <th>loja</th>\n",
       "      <th>mes</th>\n",
       "    </tr>\n",
       "  </thead>\n",
       "  <tbody>\n",
       "    <tr>\n",
       "      <th>0</th>\n",
       "      <td>VENDAS - BARROSO</td>\n",
       "      <td>05</td>\n",
       "    </tr>\n",
       "    <tr>\n",
       "      <th>1</th>\n",
       "      <td>CAIXA - PONTA NEGRA</td>\n",
       "      <td>05</td>\n",
       "    </tr>\n",
       "    <tr>\n",
       "      <th>2</th>\n",
       "      <td>LOTERIA - PVH CENTRO</td>\n",
       "      <td>05</td>\n",
       "    </tr>\n",
       "    <tr>\n",
       "      <th>3</th>\n",
       "      <td>LOTERIA - PVH CENTRO</td>\n",
       "      <td>05</td>\n",
       "    </tr>\n",
       "    <tr>\n",
       "      <th>4</th>\n",
       "      <td>CAIXA - SHOPPING P VELHO</td>\n",
       "      <td>05</td>\n",
       "    </tr>\n",
       "  </tbody>\n",
       "</table>\n",
       "</div>"
      ],
      "text/plain": [
       "                       loja mes\n",
       "0          VENDAS - BARROSO  05\n",
       "1       CAIXA - PONTA NEGRA  05\n",
       "2      LOTERIA - PVH CENTRO  05\n",
       "3      LOTERIA - PVH CENTRO  05\n",
       "4  CAIXA - SHOPPING P VELHO  05"
      ]
     },
     "execution_count": 21,
     "metadata": {},
     "output_type": "execute_result"
    }
   ],
   "source": [
    "df_licencas_unidade.head()"
   ]
  },
  {
   "cell_type": "code",
   "execution_count": 22,
   "metadata": {},
   "outputs": [],
   "source": [
    "df_atestados_meses.drop(columns = {'data_inicial'}, inplace = True)"
   ]
  },
  {
   "cell_type": "code",
   "execution_count": 23,
   "metadata": {},
   "outputs": [],
   "source": [
    "df_atestados_meses['mes'] = df_atestados_meses['mes'].astype(int)"
   ]
  },
  {
   "cell_type": "code",
   "execution_count": 24,
   "metadata": {},
   "outputs": [],
   "source": [
    "df_atestados_meses['mes_copiado'] = df_atestados_meses['mes']"
   ]
  },
  {
   "cell_type": "markdown",
   "metadata": {},
   "source": [
    "## QUANTIDADE DE DIAS PERDIDOS E LICENÇAS POR MÊS"
   ]
  },
  {
   "cell_type": "code",
   "execution_count": 25,
   "metadata": {},
   "outputs": [],
   "source": [
    "df_atestados_meses = df_atestados_meses.groupby('mes', as_index = False).agg({'mes_copiado': 'count','dias_perdidos':'sum'})"
   ]
  },
  {
   "cell_type": "code",
   "execution_count": 26,
   "metadata": {},
   "outputs": [
    {
     "data": {
      "text/html": [
       "<div>\n",
       "<style scoped>\n",
       "    .dataframe tbody tr th:only-of-type {\n",
       "        vertical-align: middle;\n",
       "    }\n",
       "\n",
       "    .dataframe tbody tr th {\n",
       "        vertical-align: top;\n",
       "    }\n",
       "\n",
       "    .dataframe thead th {\n",
       "        text-align: right;\n",
       "    }\n",
       "</style>\n",
       "<table border=\"1\" class=\"dataframe\">\n",
       "  <thead>\n",
       "    <tr style=\"text-align: right;\">\n",
       "      <th></th>\n",
       "      <th>mes</th>\n",
       "      <th>mes_copiado</th>\n",
       "      <th>dias_perdidos</th>\n",
       "    </tr>\n",
       "  </thead>\n",
       "  <tbody>\n",
       "    <tr>\n",
       "      <th>0</th>\n",
       "      <td>5</td>\n",
       "      <td>151</td>\n",
       "      <td>355</td>\n",
       "    </tr>\n",
       "    <tr>\n",
       "      <th>1</th>\n",
       "      <td>6</td>\n",
       "      <td>162</td>\n",
       "      <td>341</td>\n",
       "    </tr>\n",
       "    <tr>\n",
       "      <th>2</th>\n",
       "      <td>7</td>\n",
       "      <td>200</td>\n",
       "      <td>485</td>\n",
       "    </tr>\n",
       "    <tr>\n",
       "      <th>3</th>\n",
       "      <td>8</td>\n",
       "      <td>199</td>\n",
       "      <td>426</td>\n",
       "    </tr>\n",
       "    <tr>\n",
       "      <th>4</th>\n",
       "      <td>9</td>\n",
       "      <td>153</td>\n",
       "      <td>332</td>\n",
       "    </tr>\n",
       "  </tbody>\n",
       "</table>\n",
       "</div>"
      ],
      "text/plain": [
       "   mes  mes_copiado  dias_perdidos\n",
       "0    5          151            355\n",
       "1    6          162            341\n",
       "2    7          200            485\n",
       "3    8          199            426\n",
       "4    9          153            332"
      ]
     },
     "execution_count": 26,
     "metadata": {},
     "output_type": "execute_result"
    }
   ],
   "source": [
    "df_atestados_meses.head()"
   ]
  },
  {
   "cell_type": "code",
   "execution_count": 27,
   "metadata": {},
   "outputs": [],
   "source": [
    "df_atestados_meses.rename(columns = {'mes_copiado':'QTE DE LICENÇAS MÉDICAS','dias_perdidos':'QTE DIAS PERDIDOS'}, inplace = True)"
   ]
  },
  {
   "cell_type": "code",
   "execution_count": 28,
   "metadata": {},
   "outputs": [],
   "source": [
    "nome_mes = {1: 'JAN', 2: 'FEV', 3:'MARC', 4:'ABR', 5:'MAIO', 6:'JUN', 7:'JUL', 8:'AGO', 9:'SET', 10:'OUT', 11:'NOV' , 12: 'DEZ'}"
   ]
  },
  {
   "cell_type": "code",
   "execution_count": 29,
   "metadata": {},
   "outputs": [],
   "source": [
    "df_atestados_meses['nome_mes'] = df_atestados_meses['mes'].map(nome_mes)"
   ]
  },
  {
   "cell_type": "code",
   "execution_count": 30,
   "metadata": {},
   "outputs": [],
   "source": [
    "df_atestados_meses.sort_values(by = ['mes'], ascending = True, inplace = True)"
   ]
  },
  {
   "cell_type": "code",
   "execution_count": 31,
   "metadata": {},
   "outputs": [],
   "source": [
    "df_atestados_meses = df_atestados_meses.T "
   ]
  },
  {
   "cell_type": "code",
   "execution_count": 32,
   "metadata": {},
   "outputs": [],
   "source": [
    "#Reorganizando os meses com os respectivos nomes\n",
    "df_atestados_meses.columns = df_atestados_meses.loc['nome_mes'] \n",
    "df_atestados_meses.columns.name = None"
   ]
  },
  {
   "cell_type": "code",
   "execution_count": 33,
   "metadata": {},
   "outputs": [],
   "source": [
    "df_atestados_meses.drop(['mes', 'nome_mes'], inplace = True)"
   ]
  },
  {
   "cell_type": "code",
   "execution_count": 34,
   "metadata": {},
   "outputs": [],
   "source": [
    "lista_colunas = df_atestados_meses.columns\n",
    "\n",
    "lista_meses = [\"JAN\", \"FEV\", \"MAR\", \"ABR\", \"MAIO\", \"JUN\",\"JUL\",\"AGO\",\"SET\",\"OUT\",\"NOV\",\"DEZ\"]\n",
    "\n",
    "lista_meses = [x for x in lista_meses if x not in lista_colunas] "
   ]
  },
  {
   "cell_type": "code",
   "execution_count": 35,
   "metadata": {},
   "outputs": [
    {
     "data": {
      "text/plain": [
       "['JAN', 'FEV', 'MAR', 'ABR', 'NOV', 'DEZ']"
      ]
     },
     "execution_count": 35,
     "metadata": {},
     "output_type": "execute_result"
    }
   ],
   "source": [
    "lista_meses"
   ]
  },
  {
   "cell_type": "code",
   "execution_count": 36,
   "metadata": {},
   "outputs": [],
   "source": [
    "for mes in lista_meses:\n",
    "    df_atestados_meses[mes] = 0"
   ]
  },
  {
   "cell_type": "code",
   "execution_count": 37,
   "metadata": {},
   "outputs": [],
   "source": [
    "df_atestados_meses.rename(columns = {'JAN': 1,\"FEV\":2,\"MAR\":3,\"ABR\":4,\"MAIO\":5,\"JUN\":6,\"JUL\":7,\"AGO\":8,\"SET\":9,\"OUT\":10,\"NOV\":11,\"DEZ\":12}, inplace = True)"
   ]
  },
  {
   "cell_type": "code",
   "execution_count": 38,
   "metadata": {},
   "outputs": [],
   "source": [
    "df_atestados_meses.sort_index(axis = 1, inplace = True)"
   ]
  },
  {
   "cell_type": "code",
   "execution_count": 39,
   "metadata": {},
   "outputs": [],
   "source": [
    "df_atestados_meses.rename(columns = {1: 'JANEIRO',2:\"FEV\",3:\"MAR\",4:\"ABR\",5:\"MAIO\",6:\"JUN\",7:\"JUL\",8:\"AGO\",9:\"SET\",10:\"OUT\",11:\"NOV\",12:\"DEZ\"}, inplace = True)"
   ]
  },
  {
   "cell_type": "code",
   "execution_count": 40,
   "metadata": {},
   "outputs": [
    {
     "data": {
      "text/html": [
       "<div>\n",
       "<style scoped>\n",
       "    .dataframe tbody tr th:only-of-type {\n",
       "        vertical-align: middle;\n",
       "    }\n",
       "\n",
       "    .dataframe tbody tr th {\n",
       "        vertical-align: top;\n",
       "    }\n",
       "\n",
       "    .dataframe thead th {\n",
       "        text-align: right;\n",
       "    }\n",
       "</style>\n",
       "<table border=\"1\" class=\"dataframe\">\n",
       "  <thead>\n",
       "    <tr style=\"text-align: right;\">\n",
       "      <th></th>\n",
       "      <th>JANEIRO</th>\n",
       "      <th>FEV</th>\n",
       "      <th>MAR</th>\n",
       "      <th>ABR</th>\n",
       "      <th>MAIO</th>\n",
       "      <th>JUN</th>\n",
       "      <th>JUL</th>\n",
       "      <th>AGO</th>\n",
       "      <th>SET</th>\n",
       "      <th>OUT</th>\n",
       "      <th>NOV</th>\n",
       "      <th>DEZ</th>\n",
       "    </tr>\n",
       "  </thead>\n",
       "  <tbody>\n",
       "    <tr>\n",
       "      <th>QTE DE LICENÇAS MÉDICAS</th>\n",
       "      <td>0</td>\n",
       "      <td>0</td>\n",
       "      <td>0</td>\n",
       "      <td>0</td>\n",
       "      <td>151</td>\n",
       "      <td>162</td>\n",
       "      <td>200</td>\n",
       "      <td>199</td>\n",
       "      <td>153</td>\n",
       "      <td>199</td>\n",
       "      <td>0</td>\n",
       "      <td>0</td>\n",
       "    </tr>\n",
       "    <tr>\n",
       "      <th>QTE DIAS PERDIDOS</th>\n",
       "      <td>0</td>\n",
       "      <td>0</td>\n",
       "      <td>0</td>\n",
       "      <td>0</td>\n",
       "      <td>355</td>\n",
       "      <td>341</td>\n",
       "      <td>485</td>\n",
       "      <td>426</td>\n",
       "      <td>332</td>\n",
       "      <td>411</td>\n",
       "      <td>0</td>\n",
       "      <td>0</td>\n",
       "    </tr>\n",
       "  </tbody>\n",
       "</table>\n",
       "</div>"
      ],
      "text/plain": [
       "                         JANEIRO  FEV  MAR  ABR MAIO  JUN  JUL  AGO  SET  OUT  \\\n",
       "QTE DE LICENÇAS MÉDICAS        0    0    0    0  151  162  200  199  153  199   \n",
       "QTE DIAS PERDIDOS              0    0    0    0  355  341  485  426  332  411   \n",
       "\n",
       "                         NOV  DEZ  \n",
       "QTE DE LICENÇAS MÉDICAS    0    0  \n",
       "QTE DIAS PERDIDOS          0    0  "
      ]
     },
     "execution_count": 40,
     "metadata": {},
     "output_type": "execute_result"
    }
   ],
   "source": [
    "df_atestados_meses"
   ]
  },
  {
   "cell_type": "markdown",
   "metadata": {},
   "source": [
    "## QUANTIDADE DE LICENÇAS MÉDICAS POR UNIDADE"
   ]
  },
  {
   "cell_type": "markdown",
   "metadata": {},
   "source": [
    "##  Retirando o nome antes do dígito na coluna loja"
   ]
  },
  {
   "cell_type": "code",
   "execution_count": 41,
   "metadata": {},
   "outputs": [],
   "source": [
    "df_licencas_unidade['loja'] = df_licencas_unidade['loja'].astype(str)"
   ]
  },
  {
   "cell_type": "markdown",
   "metadata": {},
   "source": [
    "### Função que tem por finalidade dizer onde tem traço e trazer so a segunda posição, ou seja, restando somente o nome da loja"
   ]
  },
  {
   "cell_type": "code",
   "execution_count": 42,
   "metadata": {},
   "outputs": [],
   "source": [
    "def consertando(row):\n",
    "    if '-' in row['loja']:\n",
    "        row['loja'] = row['loja'].split('-')[1]\n",
    "    return row\n",
    "\n",
    "df_licencas_unidade = df_licencas_unidade.apply(consertando, axis = 1)"
   ]
  },
  {
   "cell_type": "code",
   "execution_count": 43,
   "metadata": {},
   "outputs": [
    {
     "data": {
      "text/html": [
       "<div>\n",
       "<style scoped>\n",
       "    .dataframe tbody tr th:only-of-type {\n",
       "        vertical-align: middle;\n",
       "    }\n",
       "\n",
       "    .dataframe tbody tr th {\n",
       "        vertical-align: top;\n",
       "    }\n",
       "\n",
       "    .dataframe thead th {\n",
       "        text-align: right;\n",
       "    }\n",
       "</style>\n",
       "<table border=\"1\" class=\"dataframe\">\n",
       "  <thead>\n",
       "    <tr style=\"text-align: right;\">\n",
       "      <th></th>\n",
       "      <th>loja</th>\n",
       "      <th>mes</th>\n",
       "    </tr>\n",
       "  </thead>\n",
       "  <tbody>\n",
       "    <tr>\n",
       "      <th>0</th>\n",
       "      <td>BARROSO</td>\n",
       "      <td>05</td>\n",
       "    </tr>\n",
       "    <tr>\n",
       "      <th>1</th>\n",
       "      <td>PONTA NEGRA</td>\n",
       "      <td>05</td>\n",
       "    </tr>\n",
       "    <tr>\n",
       "      <th>2</th>\n",
       "      <td>PVH CENTRO</td>\n",
       "      <td>05</td>\n",
       "    </tr>\n",
       "    <tr>\n",
       "      <th>3</th>\n",
       "      <td>PVH CENTRO</td>\n",
       "      <td>05</td>\n",
       "    </tr>\n",
       "    <tr>\n",
       "      <th>4</th>\n",
       "      <td>SHOPPING P VELHO</td>\n",
       "      <td>05</td>\n",
       "    </tr>\n",
       "  </tbody>\n",
       "</table>\n",
       "</div>"
      ],
      "text/plain": [
       "                loja mes\n",
       "0            BARROSO  05\n",
       "1        PONTA NEGRA  05\n",
       "2         PVH CENTRO  05\n",
       "3         PVH CENTRO  05\n",
       "4   SHOPPING P VELHO  05"
      ]
     },
     "execution_count": 43,
     "metadata": {},
     "output_type": "execute_result"
    }
   ],
   "source": [
    "df_licencas_unidade.head()"
   ]
  },
  {
   "cell_type": "markdown",
   "metadata": {},
   "source": [
    "### Fazendo Relação pelo centro da loja"
   ]
  },
  {
   "cell_type": "code",
   "execution_count": null,
   "metadata": {},
   "outputs": [],
   "source": [
    "## centros pendentes VENDAS - SHOPPING BOA VISTA\n",
    "\n"
   ]
  },
  {
   "cell_type": "code",
   "execution_count": 44,
   "metadata": {},
   "outputs": [],
   "source": [
    "# df_licencas_unidade[df_licencas_unidade['loja'] == \"TORQUATO\"]"
   ]
  },
  {
   "cell_type": "markdown",
   "metadata": {},
   "source": [
    "# SALVANDOS OS DATA FRAMES"
   ]
  },
  {
   "cell_type": "code",
   "execution_count": 45,
   "metadata": {},
   "outputs": [],
   "source": [
    "writer = pd.ExcelWriter('Relatório de Atestados.xlsx', engine ='xlsxwriter')\n",
    "\n",
    "### relatorio geral da quantidade de dias perdidos e da quantidade de licenças médicas gerais\n",
    "\n",
    "df_atestados_meses.to_excel (writer, sheet_name = \"relatorio_atestados\", index = True, startrow = 1, startcol = 0)\n",
    "\n",
    "workbook = writer.book"
   ]
  },
  {
   "cell_type": "code",
   "execution_count": 46,
   "metadata": {},
   "outputs": [],
   "source": [
    "df_atestados_meses.to_excel (writer, sheet_name = \"relatorio_atestados\", index = True, startrow = 1, startcol = 0)\n"
   ]
  },
  {
   "cell_type": "code",
   "execution_count": 47,
   "metadata": {},
   "outputs": [],
   "source": [
    "writer.save()"
   ]
  }
 ],
 "metadata": {
  "kernelspec": {
   "display_name": "Python 3",
   "language": "python",
   "name": "python3"
  },
  "language_info": {
   "codemirror_mode": {
    "name": "ipython",
    "version": 3
   },
   "file_extension": ".py",
   "mimetype": "text/x-python",
   "name": "python",
   "nbconvert_exporter": "python",
   "pygments_lexer": "ipython3",
   "version": "3.7.3"
  }
 },
 "nbformat": 4,
 "nbformat_minor": 4
}
